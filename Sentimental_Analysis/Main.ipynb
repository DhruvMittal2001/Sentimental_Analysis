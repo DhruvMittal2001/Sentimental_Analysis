{
 "cells": [
  {
   "cell_type": "markdown",
   "id": "5dbd11b6",
   "metadata": {},
   "source": [
    "#How to clean the text\n",
    "1)Create text file and take text from it\n",
    "2)convert all the letter into lowercase\n",
    "3)remove the punctuation marks and special character"
   ]
  },
  {
   "cell_type": "code",
   "execution_count": 3,
   "id": "6e4bbf28",
   "metadata": {},
   "outputs": [
    {
     "name": "stdout",
     "output_type": "stream",
     "text": [
      "Title: The Resilience of Emily\n",
      "\n",
      "Once upon a time in a small, common town, there lived a woman named Emily. She was a diligent and capable individual, always ready to face whatever challenges life threw her way. Emily had a warm heart and an endearing smile that could make even the most awkward situations seem a little less daunting.\n",
      "\n",
      "One fateful day, as Emily was walking through the charming streets of her town, she witnessed a distressing incident. A young boy had been accused of stealing an adorable puppy from a neighbor's yard. The boy, in tears and feeling afflicted by the accusations, looked around for help.\n",
      "\n",
      "Emily, never one to shy away from adversity, approached the situation. She felt a pang of anger at the unfairness of it all and decided to investigate. She was determined to get to the truth, as her compassionate heart couldn't bear to see an innocent child anguished and distressed.\n",
      "\n",
      "With a calm and composed demeanor, Emily started talking to the people involved. She asked questions, trying to unravel the perplexing circumstances surrounding the alleged theft. Her curiosity and dedication were evident to everyone present, and soon, she had the townsfolk animatedly discussing the events that had transpired.\n",
      "\n",
      "As the truth emerged, it became apparent that the puppy had simply wandered away from its owner and had not been stolen at all. Emily's efforts had not only acquitted the young boy of any wrongdoing but also brought about a sense of relief and cheerfulness in the neighborhood. The boy was once again cheered by the adoring presence of his beloved puppy.\n",
      "\n",
      "In the aftermath of this heartwarming incident, the town showered Emily with appreciation and gratitude. She had managed to transform an alarming situation into one filled with appreciation and contentment. Emily's actions proved that even in moments of distress, with determination and a caring heart, one could overcome any challenge.\n",
      "\n",
      "Emily's story resonated with everyone, serving as a reminder of the importance of being courageous, connected to one's community, and empathetic towards others. She continued to be a beacon of hope and inspiration, leaving a lasting mark on her town, where once, she had been merely categorized as an ordinary resident.\n"
     ]
    }
   ],
   "source": [
    "with open(\"read.txt\", \"r\") as file:\n",
    "    contents = file.read()\n",
    "    print(contents)"
   ]
  },
  {
   "cell_type": "code",
   "execution_count": 4,
   "id": "db001f55",
   "metadata": {},
   "outputs": [
    {
     "name": "stdout",
     "output_type": "stream",
     "text": [
      "Title: The Resilience of Emily\n",
      "\n",
      "Once upon a time in a small, common town, there lived a woman named Emily. She was a diligent and capable individual, always ready to face whatever challenges life threw her way. Emily had a warm heart and an endearing smile that could make even the most awkward situations seem a little less daunting.\n",
      "\n",
      "One fateful day, as Emily was walking through the charming streets of her town, she witnessed a distressing incident. A young boy had been accused of stealing an adorable puppy from a neighbor's yard. The boy, in tears and feeling afflicted by the accusations, looked around for help.\n",
      "\n",
      "Emily, never one to shy away from adversity, approached the situation. She felt a pang of anger at the unfairness of it all and decided to investigate. She was determined to get to the truth, as her compassionate heart couldn't bear to see an innocent child anguished and distressed.\n",
      "\n",
      "With a calm and composed demeanor, Emily started talking to the people involved. She asked questions, trying to unravel the perplexing circumstances surrounding the alleged theft. Her curiosity and dedication were evident to everyone present, and soon, she had the townsfolk animatedly discussing the events that had transpired.\n",
      "\n",
      "As the truth emerged, it became apparent that the puppy had simply wandered away from its owner and had not been stolen at all. Emily's efforts had not only acquitted the young boy of any wrongdoing but also brought about a sense of relief and cheerfulness in the neighborhood. The boy was once again cheered by the adoring presence of his beloved puppy.\n",
      "\n",
      "In the aftermath of this heartwarming incident, the town showered Emily with appreciation and gratitude. She had managed to transform an alarming situation into one filled with appreciation and contentment. Emily's actions proved that even in moments of distress, with determination and a caring heart, one could overcome any challenge.\n",
      "\n",
      "Emily's story resonated with everyone, serving as a reminder of the importance of being courageous, connected to one's community, and empathetic towards others. She continued to be a beacon of hope and inspiration, leaving a lasting mark on her town, where once, she had been merely categorized as an ordinary resident.\n"
     ]
    }
   ],
   "source": [
    "text=open(\"read.txt\",encoding='utf-8').read()\n",
    "#utf-8 encoding is just a way of writing text on internet\n",
    "print(text)"
   ]
  },
  {
   "cell_type": "code",
   "execution_count": 5,
   "id": "b64c0ca3",
   "metadata": {},
   "outputs": [
    {
     "name": "stdout",
     "output_type": "stream",
     "text": [
      "title: the resilience of emily\n",
      "\n",
      "once upon a time in a small, common town, there lived a woman named emily. she was a diligent and capable individual, always ready to face whatever challenges life threw her way. emily had a warm heart and an endearing smile that could make even the most awkward situations seem a little less daunting.\n",
      "\n",
      "one fateful day, as emily was walking through the charming streets of her town, she witnessed a distressing incident. a young boy had been accused of stealing an adorable puppy from a neighbor's yard. the boy, in tears and feeling afflicted by the accusations, looked around for help.\n",
      "\n",
      "emily, never one to shy away from adversity, approached the situation. she felt a pang of anger at the unfairness of it all and decided to investigate. she was determined to get to the truth, as her compassionate heart couldn't bear to see an innocent child anguished and distressed.\n",
      "\n",
      "with a calm and composed demeanor, emily started talking to the people involved. she asked questions, trying to unravel the perplexing circumstances surrounding the alleged theft. her curiosity and dedication were evident to everyone present, and soon, she had the townsfolk animatedly discussing the events that had transpired.\n",
      "\n",
      "as the truth emerged, it became apparent that the puppy had simply wandered away from its owner and had not been stolen at all. emily's efforts had not only acquitted the young boy of any wrongdoing but also brought about a sense of relief and cheerfulness in the neighborhood. the boy was once again cheered by the adoring presence of his beloved puppy.\n",
      "\n",
      "in the aftermath of this heartwarming incident, the town showered emily with appreciation and gratitude. she had managed to transform an alarming situation into one filled with appreciation and contentment. emily's actions proved that even in moments of distress, with determination and a caring heart, one could overcome any challenge.\n",
      "\n",
      "emily's story resonated with everyone, serving as a reminder of the importance of being courageous, connected to one's community, and empathetic towards others. she continued to be a beacon of hope and inspiration, leaving a lasting mark on her town, where once, she had been merely categorized as an ordinary resident.\n"
     ]
    }
   ],
   "source": [
    "#coverting to lowercase\n",
    "lower_case=text.lower()\n",
    "print(lower_case)"
   ]
  },
  {
   "cell_type": "code",
   "execution_count": 6,
   "id": "2add816c",
   "metadata": {},
   "outputs": [
    {
     "name": "stdout",
     "output_type": "stream",
     "text": [
      "title the resilience of emily\n",
      "\n",
      "once upon a time in a small common town there lived a woman named emily she was a diligent and capable individual always ready to face whatever challenges life threw her way emily had a warm heart and an endearing smile that could make even the most awkward situations seem a little less daunting\n",
      "\n",
      "one fateful day as emily was walking through the charming streets of her town she witnessed a distressing incident a young boy had been accused of stealing an adorable puppy from a neighbors yard the boy in tears and feeling afflicted by the accusations looked around for help\n",
      "\n",
      "emily never one to shy away from adversity approached the situation she felt a pang of anger at the unfairness of it all and decided to investigate she was determined to get to the truth as her compassionate heart couldnt bear to see an innocent child anguished and distressed\n",
      "\n",
      "with a calm and composed demeanor emily started talking to the people involved she asked questions trying to unravel the perplexing circumstances surrounding the alleged theft her curiosity and dedication were evident to everyone present and soon she had the townsfolk animatedly discussing the events that had transpired\n",
      "\n",
      "as the truth emerged it became apparent that the puppy had simply wandered away from its owner and had not been stolen at all emilys efforts had not only acquitted the young boy of any wrongdoing but also brought about a sense of relief and cheerfulness in the neighborhood the boy was once again cheered by the adoring presence of his beloved puppy\n",
      "\n",
      "in the aftermath of this heartwarming incident the town showered emily with appreciation and gratitude she had managed to transform an alarming situation into one filled with appreciation and contentment emilys actions proved that even in moments of distress with determination and a caring heart one could overcome any challenge\n",
      "\n",
      "emilys story resonated with everyone serving as a reminder of the importance of being courageous connected to ones community and empathetic towards others she continued to be a beacon of hope and inspiration leaving a lasting mark on her town where once she had been merely categorized as an ordinary resident\n"
     ]
    }
   ],
   "source": [
    "#removing special character\n",
    "import string\n",
    "clean_text=lower_case.translate(str.maketrans('','',string.punctuation))\n",
    "'''translate: This method is used to perform character-level translation or mapping of characters in a string.'''\n",
    "'''str.maketrans('', '', string.punctuation): This part creates a translation table for the translate method. \n",
    "It uses the string.punctuation constant from the string module, which contains all the punctuation characters. \n",
    "The str.maketrans() function generates a translation table that maps each character in the first argument \n",
    "(an empty string '') to its corresponding character in the second argument (another empty string ''). \n",
    "Since both strings are empty, this effectively means \"remove all characters in string.punctuation.\"'''\n",
    "print(clean_text)"
   ]
  },
  {
   "cell_type": "code",
   "execution_count": 7,
   "id": "8770399d",
   "metadata": {},
   "outputs": [
    {
     "name": "stdout",
     "output_type": "stream",
     "text": [
      "['title', 'the', 'resilience', 'of', 'emily', 'once', 'upon', 'a', 'time', 'in', 'a', 'small', 'common', 'town', 'there', 'lived', 'a', 'woman', 'named', 'emily', 'she', 'was', 'a', 'diligent', 'and', 'capable', 'individual', 'always', 'ready', 'to', 'face', 'whatever', 'challenges', 'life', 'threw', 'her', 'way', 'emily', 'had', 'a', 'warm', 'heart', 'and', 'an', 'endearing', 'smile', 'that', 'could', 'make', 'even', 'the', 'most', 'awkward', 'situations', 'seem', 'a', 'little', 'less', 'daunting', 'one', 'fateful', 'day', 'as', 'emily', 'was', 'walking', 'through', 'the', 'charming', 'streets', 'of', 'her', 'town', 'she', 'witnessed', 'a', 'distressing', 'incident', 'a', 'young', 'boy', 'had', 'been', 'accused', 'of', 'stealing', 'an', 'adorable', 'puppy', 'from', 'a', 'neighbors', 'yard', 'the', 'boy', 'in', 'tears', 'and', 'feeling', 'afflicted', 'by', 'the', 'accusations', 'looked', 'around', 'for', 'help', 'emily', 'never', 'one', 'to', 'shy', 'away', 'from', 'adversity', 'approached', 'the', 'situation', 'she', 'felt', 'a', 'pang', 'of', 'anger', 'at', 'the', 'unfairness', 'of', 'it', 'all', 'and', 'decided', 'to', 'investigate', 'she', 'was', 'determined', 'to', 'get', 'to', 'the', 'truth', 'as', 'her', 'compassionate', 'heart', 'couldnt', 'bear', 'to', 'see', 'an', 'innocent', 'child', 'anguished', 'and', 'distressed', 'with', 'a', 'calm', 'and', 'composed', 'demeanor', 'emily', 'started', 'talking', 'to', 'the', 'people', 'involved', 'she', 'asked', 'questions', 'trying', 'to', 'unravel', 'the', 'perplexing', 'circumstances', 'surrounding', 'the', 'alleged', 'theft', 'her', 'curiosity', 'and', 'dedication', 'were', 'evident', 'to', 'everyone', 'present', 'and', 'soon', 'she', 'had', 'the', 'townsfolk', 'animatedly', 'discussing', 'the', 'events', 'that', 'had', 'transpired', 'as', 'the', 'truth', 'emerged', 'it', 'became', 'apparent', 'that', 'the', 'puppy', 'had', 'simply', 'wandered', 'away', 'from', 'its', 'owner', 'and', 'had', 'not', 'been', 'stolen', 'at', 'all', 'emilys', 'efforts', 'had', 'not', 'only', 'acquitted', 'the', 'young', 'boy', 'of', 'any', 'wrongdoing', 'but', 'also', 'brought', 'about', 'a', 'sense', 'of', 'relief', 'and', 'cheerfulness', 'in', 'the', 'neighborhood', 'the', 'boy', 'was', 'once', 'again', 'cheered', 'by', 'the', 'adoring', 'presence', 'of', 'his', 'beloved', 'puppy', 'in', 'the', 'aftermath', 'of', 'this', 'heartwarming', 'incident', 'the', 'town', 'showered', 'emily', 'with', 'appreciation', 'and', 'gratitude', 'she', 'had', 'managed', 'to', 'transform', 'an', 'alarming', 'situation', 'into', 'one', 'filled', 'with', 'appreciation', 'and', 'contentment', 'emilys', 'actions', 'proved', 'that', 'even', 'in', 'moments', 'of', 'distress', 'with', 'determination', 'and', 'a', 'caring', 'heart', 'one', 'could', 'overcome', 'any', 'challenge', 'emilys', 'story', 'resonated', 'with', 'everyone', 'serving', 'as', 'a', 'reminder', 'of', 'the', 'importance', 'of', 'being', 'courageous', 'connected', 'to', 'ones', 'community', 'and', 'empathetic', 'towards', 'others', 'she', 'continued', 'to', 'be', 'a', 'beacon', 'of', 'hope', 'and', 'inspiration', 'leaving', 'a', 'lasting', 'mark', 'on', 'her', 'town', 'where', 'once', 'she', 'had', 'been', 'merely', 'categorized', 'as', 'an', 'ordinary', 'resident']\n"
     ]
    }
   ],
   "source": [
    "#tokenization=Breaking setences into words\n",
    "token_word=clean_text.split()\n",
    "print(token_word)"
   ]
  },
  {
   "cell_type": "code",
   "execution_count": 8,
   "id": "653e6bce",
   "metadata": {},
   "outputs": [
    {
     "name": "stdout",
     "output_type": "stream",
     "text": [
      "['title', 'resilience', 'emily', 'upon', 'time', 'small', 'common', 'town', 'lived', 'woman', 'named', 'emily', 'diligent', 'capable', 'individual', 'always', 'ready', 'face', 'whatever', 'challenges', 'life', 'threw', 'way', 'emily', 'warm', 'heart', 'endearing', 'smile', 'could', 'make', 'even', 'awkward', 'situations', 'seem', 'little', 'less', 'daunting', 'one', 'fateful', 'day', 'emily', 'walking', 'charming', 'streets', 'town', 'witnessed', 'distressing', 'incident', 'young', 'boy', 'accused', 'stealing', 'adorable', 'puppy', 'neighbors', 'yard', 'boy', 'tears', 'feeling', 'afflicted', 'accusations', 'looked', 'around', 'help', 'emily', 'never', 'one', 'shy', 'away', 'adversity', 'approached', 'situation', 'felt', 'pang', 'anger', 'unfairness', 'decided', 'investigate', 'determined', 'get', 'truth', 'compassionate', 'heart', 'couldnt', 'bear', 'see', 'innocent', 'child', 'anguished', 'distressed', 'calm', 'composed', 'demeanor', 'emily', 'started', 'talking', 'people', 'involved', 'asked', 'questions', 'trying', 'unravel', 'perplexing', 'circumstances', 'surrounding', 'alleged', 'theft', 'curiosity', 'dedication', 'evident', 'everyone', 'present', 'soon', 'townsfolk', 'animatedly', 'discussing', 'events', 'transpired', 'truth', 'emerged', 'became', 'apparent', 'puppy', 'simply', 'wandered', 'away', 'owner', 'stolen', 'emilys', 'efforts', 'acquitted', 'young', 'boy', 'wrongdoing', 'also', 'brought', 'sense', 'relief', 'cheerfulness', 'neighborhood', 'boy', 'cheered', 'adoring', 'presence', 'beloved', 'puppy', 'aftermath', 'heartwarming', 'incident', 'town', 'showered', 'emily', 'appreciation', 'gratitude', 'managed', 'transform', 'alarming', 'situation', 'one', 'filled', 'appreciation', 'contentment', 'emilys', 'actions', 'proved', 'even', 'moments', 'distress', 'determination', 'caring', 'heart', 'one', 'could', 'overcome', 'challenge', 'emilys', 'story', 'resonated', 'everyone', 'serving', 'reminder', 'importance', 'courageous', 'connected', 'ones', 'community', 'empathetic', 'towards', 'others', 'continued', 'beacon', 'hope', 'inspiration', 'leaving', 'lasting', 'mark', 'town', 'merely', 'categorized', 'ordinary', 'resident']\n"
     ]
    }
   ],
   "source": [
    "#stop words=>are the words that dont add any meaning to the sentence\n",
    "stop_words = [\"i\", \"me\", \"my\", \"myself\", \"we\", \"our\", \"ours\", \"ourselves\", \"you\", \"your\", \"yours\", \"yourself\",\n",
    "              \"yourselves\", \"he\", \"him\", \"his\", \"himself\", \"she\", \"her\", \"hers\", \"herself\", \"it\", \"its\", \"itself\",\n",
    "              \"they\", \"them\", \"their\", \"theirs\", \"themselves\", \"what\", \"which\", \"who\", \"whom\", \"this\", \"that\", \"these\",\n",
    "              \"those\", \"am\", \"is\", \"are\", \"was\", \"were\", \"be\", \"been\", \"being\", \"have\", \"has\", \"had\", \"having\", \"do\",\n",
    "              \"does\", \"did\", \"doing\", \"a\", \"an\", \"the\", \"and\", \"but\", \"if\", \"or\", \"because\", \"as\", \"until\", \"while\",\n",
    "              \"of\", \"at\", \"by\", \"for\", \"with\", \"about\", \"against\", \"between\", \"into\", \"through\", \"during\", \"before\",\n",
    "              \"after\", \"above\", \"below\", \"to\", \"from\", \"up\", \"down\", \"in\", \"out\", \"on\", \"off\", \"over\", \"under\", \"again\",\n",
    "              \"further\", \"then\", \"once\", \"here\", \"there\", \"when\", \"where\", \"why\", \"how\", \"all\", \"any\", \"both\", \"each\",\n",
    "              \"few\", \"more\", \"most\", \"other\", \"some\", \"such\", \"no\", \"nor\", \"not\", \"only\", \"own\", \"same\", \"so\", \"than\",\n",
    "              \"too\", \"very\", \"s\", \"t\", \"can\", \"will\", \"just\", \"don\", \"should\", \"now\"]\n",
    "final_words=[]\n",
    "for word in token_word:\n",
    "    if word not in stop_words:\n",
    "        final_words.append(word)\n",
    "        \n",
    "print(final_words)"
   ]
  },
  {
   "cell_type": "code",
   "execution_count": 9,
   "id": "30465aa9",
   "metadata": {
    "scrolled": false
   },
   "outputs": [],
   "source": [
    "#NLP Emotion Algo\n",
    "'''check if final_words present in emotion.txt \n",
    "loop through each line in emotion.txt and clear it\n",
    "extract the word and emotion regarding it\n",
    "add word to emotion list\n",
    "count each emotion'''\n",
    "emotion_list=[]\n",
    "with open('emotion.txt','r') as emofile:\n",
    "    for line in emofile:\n",
    "        clear_line=line.replace('\\n','').replace(\",\",'')\n",
    "        clear_line=clear_line.replace(\"'\",'').strip()\n",
    "        word,emotion=clear_line.split(':')\n",
    "       \n",
    "        if word in final_words:\n",
    "            emotion_list.append(emotion)  \n",
    "      \n",
    "       \n",
    "         "
   ]
  },
  {
   "cell_type": "code",
   "execution_count": 10,
   "id": "086e5ca0",
   "metadata": {},
   "outputs": [
    {
     "name": "stdout",
     "output_type": "stream",
     "text": [
      "[' cheated', ' singled out', ' loved', ' sad', ' sad', ' embarrassed', ' safe', ' adequate', ' singled out', ' average', ' adequate', ' attached', ' fearless', ' focused', ' sad', ' attached', ' average', ' attached']\n"
     ]
    }
   ],
   "source": [
    "print(emotion_list)   "
   ]
  },
  {
   "cell_type": "code",
   "execution_count": 11,
   "id": "1593d4c5",
   "metadata": {},
   "outputs": [
    {
     "name": "stdout",
     "output_type": "stream",
     "text": [
      "Counter({' sad': 3, ' attached': 3, ' singled out': 2, ' adequate': 2, ' average': 2, ' cheated': 1, ' loved': 1, ' embarrassed': 1, ' safe': 1, ' fearless': 1, ' focused': 1})\n"
     ]
    }
   ],
   "source": [
    "from collections import Counter\n",
    "w=Counter(emotion_list)\n",
    "print(w)"
   ]
  },
  {
   "cell_type": "code",
   "execution_count": 12,
   "id": "5e0cc544",
   "metadata": {},
   "outputs": [
    {
     "data": {
      "image/png": "[encoded data removed]",
      "text/plain": [
       "<Figure size 432x288 with 1 Axes>"
      ]
     },
     "metadata": {
      "needs_background": "light"
     },
     "output_type": "display_data"
    }
   ],
   "source": [
    "#example for analysing a speech\n",
    "import matplotlib.pyplot as plt\n",
    "fig, ax1=plt.subplots()\n",
    "ax1.bar(w.keys(),w.values())\n",
    "fig.autofmt_xdate()\n",
    "plt.savefig('graph.png')\n",
    "plt.show()"
   ]
  },
  {
   "cell_type": "code",
   "execution_count": 34,
   "id": "65c4ab0d",
   "metadata": {},
   "outputs": [
    {
     "name": "stderr",
     "output_type": "stream",
     "text": [
      "[nltk_data] Downloading package stopwords to\n",
      "[nltk_data]     C:\\Users\\lenovo\\AppData\\Roaming\\nltk_data...\n",
      "[nltk_data]   Package stopwords is already up-to-date!\n",
      "[nltk_data] Downloading package vader_lexicon to\n",
      "[nltk_data]     C:\\Users\\lenovo\\AppData\\Roaming\\nltk_data...\n",
      "[nltk_data]   Package vader_lexicon is already up-to-date!\n"
     ]
    }
   ],
   "source": [
    "import nltk\n",
    "nltk.download('stopwords')\n",
    "nltk.download('vader_lexicon')\n",
    "\n",
    "from nltk.tokenize import word_tokenize\n",
    "from nltk.corpus import stopwords\n",
    "from nltk.sentiment.vader import SentimentIntensityAnalyzer"
   ]
  },
  {
   "cell_type": "code",
   "execution_count": 26,
   "id": "43b14cdd",
   "metadata": {},
   "outputs": [
    {
     "name": "stdout",
     "output_type": "stream",
     "text": [
      "['title', 'the', 'resilience', 'of', 'emily', 'once', 'upon', 'a', 'time', 'in', 'a', 'small', 'common', 'town', 'there', 'lived', 'a', 'woman', 'named', 'emily', 'she', 'was', 'a', 'diligent', 'and', 'capable', 'individual', 'always', 'ready', 'to', 'face', 'whatever', 'challenges', 'life', 'threw', 'her', 'way', 'emily', 'had', 'a', 'warm', 'heart', 'and', 'an', 'endearing', 'smile', 'that', 'could', 'make', 'even', 'the', 'most', 'awkward', 'situations', 'seem', 'a', 'little', 'less', 'daunting', 'one', 'fateful', 'day', 'as', 'emily', 'was', 'walking', 'through', 'the', 'charming', 'streets', 'of', 'her', 'town', 'she', 'witnessed', 'a', 'distressing', 'incident', 'a', 'young', 'boy', 'had', 'been', 'accused', 'of', 'stealing', 'an', 'adorable', 'puppy', 'from', 'a', 'neighbors', 'yard', 'the', 'boy', 'in', 'tears', 'and', 'feeling', 'afflicted', 'by', 'the', 'accusations', 'looked', 'around', 'for', 'help', 'emily', 'never', 'one', 'to', 'shy', 'away', 'from', 'adversity', 'approached', 'the', 'situation', 'she', 'felt', 'a', 'pang', 'of', 'anger', 'at', 'the', 'unfairness', 'of', 'it', 'all', 'and', 'decided', 'to', 'investigate', 'she', 'was', 'determined', 'to', 'get', 'to', 'the', 'truth', 'as', 'her', 'compassionate', 'heart', 'couldnt', 'bear', 'to', 'see', 'an', 'innocent', 'child', 'anguished', 'and', 'distressed', 'with', 'a', 'calm', 'and', 'composed', 'demeanor', 'emily', 'started', 'talking', 'to', 'the', 'people', 'involved', 'she', 'asked', 'questions', 'trying', 'to', 'unravel', 'the', 'perplexing', 'circumstances', 'surrounding', 'the', 'alleged', 'theft', 'her', 'curiosity', 'and', 'dedication', 'were', 'evident', 'to', 'everyone', 'present', 'and', 'soon', 'she', 'had', 'the', 'townsfolk', 'animatedly', 'discussing', 'the', 'events', 'that', 'had', 'transpired', 'as', 'the', 'truth', 'emerged', 'it', 'became', 'apparent', 'that', 'the', 'puppy', 'had', 'simply', 'wandered', 'away', 'from', 'its', 'owner', 'and', 'had', 'not', 'been', 'stolen', 'at', 'all', 'emilys', 'efforts', 'had', 'not', 'only', 'acquitted', 'the', 'young', 'boy', 'of', 'any', 'wrongdoing', 'but', 'also', 'brought', 'about', 'a', 'sense', 'of', 'relief', 'and', 'cheerfulness', 'in', 'the', 'neighborhood', 'the', 'boy', 'was', 'once', 'again', 'cheered', 'by', 'the', 'adoring', 'presence', 'of', 'his', 'beloved', 'puppy', 'in', 'the', 'aftermath', 'of', 'this', 'heartwarming', 'incident', 'the', 'town', 'showered', 'emily', 'with', 'appreciation', 'and', 'gratitude', 'she', 'had', 'managed', 'to', 'transform', 'an', 'alarming', 'situation', 'into', 'one', 'filled', 'with', 'appreciation', 'and', 'contentment', 'emilys', 'actions', 'proved', 'that', 'even', 'in', 'moments', 'of', 'distress', 'with', 'determination', 'and', 'a', 'caring', 'heart', 'one', 'could', 'overcome', 'any', 'challenge', 'emilys', 'story', 'resonated', 'with', 'everyone', 'serving', 'as', 'a', 'reminder', 'of', 'the', 'importance', 'of', 'being', 'courageous', 'connected', 'to', 'ones', 'community', 'and', 'empathetic', 'towards', 'others', 'she', 'continued', 'to', 'be', 'a', 'beacon', 'of', 'hope', 'and', 'inspiration', 'leaving', 'a', 'lasting', 'mark', 'on', 'her', 'town', 'where', 'once', 'she', 'had', 'been', 'merely', 'categorized', 'as', 'an', 'ordinary', 'resident']\n"
     ]
    }
   ],
   "source": [
    "#tokenization=Breaking setences into words\n",
    "token_word=word_tokenize(clean_text,\"english\")\n",
    "print(token_word)"
   ]
  },
  {
   "cell_type": "code",
   "execution_count": 27,
   "id": "ea80d98b",
   "metadata": {},
   "outputs": [
    {
     "name": "stdout",
     "output_type": "stream",
     "text": [
      "['title', 'resilience', 'emily', 'upon', 'time', 'small', 'common', 'town', 'lived', 'woman', 'named', 'emily', 'diligent', 'capable', 'individual', 'always', 'ready', 'face', 'whatever', 'challenges', 'life', 'threw', 'way', 'emily', 'warm', 'heart', 'endearing', 'smile', 'could', 'make', 'even', 'awkward', 'situations', 'seem', 'little', 'less', 'daunting', 'one', 'fateful', 'day', 'emily', 'walking', 'charming', 'streets', 'town', 'witnessed', 'distressing', 'incident', 'young', 'boy', 'accused', 'stealing', 'adorable', 'puppy', 'neighbors', 'yard', 'boy', 'tears', 'feeling', 'afflicted', 'accusations', 'looked', 'around', 'help', 'emily', 'never', 'one', 'shy', 'away', 'adversity', 'approached', 'situation', 'felt', 'pang', 'anger', 'unfairness', 'decided', 'investigate', 'determined', 'get', 'truth', 'compassionate', 'heart', 'couldnt', 'bear', 'see', 'innocent', 'child', 'anguished', 'distressed', 'calm', 'composed', 'demeanor', 'emily', 'started', 'talking', 'people', 'involved', 'asked', 'questions', 'trying', 'unravel', 'perplexing', 'circumstances', 'surrounding', 'alleged', 'theft', 'curiosity', 'dedication', 'evident', 'everyone', 'present', 'soon', 'townsfolk', 'animatedly', 'discussing', 'events', 'transpired', 'truth', 'emerged', 'became', 'apparent', 'puppy', 'simply', 'wandered', 'away', 'owner', 'stolen', 'emilys', 'efforts', 'acquitted', 'young', 'boy', 'wrongdoing', 'also', 'brought', 'sense', 'relief', 'cheerfulness', 'neighborhood', 'boy', 'cheered', 'adoring', 'presence', 'beloved', 'puppy', 'aftermath', 'heartwarming', 'incident', 'town', 'showered', 'emily', 'appreciation', 'gratitude', 'managed', 'transform', 'alarming', 'situation', 'one', 'filled', 'appreciation', 'contentment', 'emilys', 'actions', 'proved', 'even', 'moments', 'distress', 'determination', 'caring', 'heart', 'one', 'could', 'overcome', 'challenge', 'emilys', 'story', 'resonated', 'everyone', 'serving', 'reminder', 'importance', 'courageous', 'connected', 'ones', 'community', 'empathetic', 'towards', 'others', 'continued', 'beacon', 'hope', 'inspiration', 'leaving', 'lasting', 'mark', 'town', 'merely', 'categorized', 'ordinary', 'resident']\n"
     ]
    }
   ],
   "source": [
    "final_words=[]\n",
    "for word in token_word:\n",
    "    if word not in stopwords.words('english'):\n",
    "        final_words.append(word)\n",
    "        \n",
    "print(final_words)"
   ]
  },
  {
   "cell_type": "code",
   "execution_count": 35,
   "id": "ead335b2",
   "metadata": {},
   "outputs": [
    {
     "name": "stdout",
     "output_type": "stream",
     "text": [
      "{'neg': 0.064, 'neu': 0.7, 'pos': 0.235, 'compound': 0.9973}\n"
     ]
    }
   ],
   "source": [
    "#this nltk lib wil provide the vibe of the text if it -ve/+ve\n",
    "#this funnction requires a whole text not the one in token form\n",
    "def sentiment_analyse(sentiment_text): \n",
    "    score=SentimentIntensityAnalyzer().polarity_scores(sentiment_text)\n",
    "    print(score)\n",
    "sentiment_analyse(clean_text)    "
   ]
  },
  {
   "cell_type": "code",
   "execution_count": null,
   "id": "ab62f9a8",
   "metadata": {},
   "outputs": [],
   "source": []
  }
 ],
 "metadata": {
  "kernelspec": {
   "display_name": "Python 3 (ipykernel)",
   "language": "python",
   "name": "python3"
  },
  "language_info": {
   "codemirror_mode": {
    "name": "ipython",
    "version": 3
   },
   "file_extension": ".py",
   "mimetype": "text/x-python",
   "name": "python",
   "nbconvert_exporter": "python",
   "pygments_lexer": "ipython3",
   "version": "3.9.12"
  }
 },
 "nbformat": 4,
 "nbformat_minor": 5
}
